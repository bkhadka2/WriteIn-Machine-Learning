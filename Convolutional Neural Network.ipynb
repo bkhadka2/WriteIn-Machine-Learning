{
 "cells": [
  {
   "cell_type": "markdown",
   "id": "effective-shock",
   "metadata": {},
   "source": [
    "# Imported Necessary Libraries"
   ]
  },
  {
   "cell_type": "code",
   "execution_count": 1,
   "id": "south-louisville",
   "metadata": {},
   "outputs": [
    {
     "name": "stdout",
     "output_type": "stream",
     "text": [
      "Tensorflow imported\n",
      "Imported Necessary modules\n"
     ]
    }
   ],
   "source": [
    "# DataFrame handling\n",
    "import pandas as pd\n",
    "\n",
    "# Confusion matrix function\n",
    "import numpy as np\n",
    "import seaborn as sn\n",
    "import matplotlib.pyplot as plt\n",
    "from sklearn.metrics import confusion_matrix\n",
    "\n",
    "# keras Models\n",
    "from keras.utils.np_utils import to_categorical # convert to one-hot-encoding\n",
    "from keras.models import Sequential\n",
    "from keras.layers import Dense, Dropout, Flatten, Conv2D, MaxPool2D\n",
    "from keras.optimizers import RMSprop,Adam\n",
    "from keras.preprocessing.image import ImageDataGenerator\n",
    "from keras.callbacks import ReduceLROnPlateau\n",
    "\n",
    "# Split data with stratified cv\n",
    "from sklearn.model_selection import StratifiedKFold, train_test_split\n",
    "\n",
    "# Encoding of classifications\n",
    "from sklearn.preprocessing import LabelEncoder\n",
    "from keras.utils import to_categorical, normalize\n",
    "\n",
    "print('Tensorflow imported')\n",
    "print('Imported Necessary modules')"
   ]
  },
  {
   "cell_type": "markdown",
   "id": "editorial-labor",
   "metadata": {},
   "source": [
    "# Read Data"
   ]
  },
  {
   "cell_type": "code",
   "execution_count": 2,
   "id": "behind-table",
   "metadata": {},
   "outputs": [],
   "source": [
    "def read_data(filePath):\n",
    "    df = pd.read_csv(filePath)\n",
    "    return df"
   ]
  },
  {
   "cell_type": "code",
   "execution_count": 3,
   "id": "earned-forestry",
   "metadata": {},
   "outputs": [],
   "source": [
    "df = read_data('./handwritten_data_785.csv')"
   ]
  },
  {
   "cell_type": "markdown",
   "id": "closed-nevada",
   "metadata": {},
   "source": [
    "# File shape, size, and description"
   ]
  },
  {
   "cell_type": "code",
   "execution_count": 4,
   "id": "moral-poetry",
   "metadata": {},
   "outputs": [
    {
     "data": {
      "text/html": [
       "<div>\n",
       "<style scoped>\n",
       "    .dataframe tbody tr th:only-of-type {\n",
       "        vertical-align: middle;\n",
       "    }\n",
       "\n",
       "    .dataframe tbody tr th {\n",
       "        vertical-align: top;\n",
       "    }\n",
       "\n",
       "    .dataframe thead th {\n",
       "        text-align: right;\n",
       "    }\n",
       "</style>\n",
       "<table border=\"1\" class=\"dataframe\">\n",
       "  <thead>\n",
       "    <tr style=\"text-align: right;\">\n",
       "      <th></th>\n",
       "      <th>0</th>\n",
       "      <th>0.1</th>\n",
       "      <th>0.2</th>\n",
       "      <th>0.3</th>\n",
       "      <th>0.4</th>\n",
       "      <th>0.5</th>\n",
       "      <th>0.6</th>\n",
       "      <th>0.7</th>\n",
       "      <th>0.8</th>\n",
       "      <th>0.9</th>\n",
       "      <th>...</th>\n",
       "      <th>0.562</th>\n",
       "      <th>0.563</th>\n",
       "      <th>0.564</th>\n",
       "      <th>0.565</th>\n",
       "      <th>0.566</th>\n",
       "      <th>0.567</th>\n",
       "      <th>0.568</th>\n",
       "      <th>0.569</th>\n",
       "      <th>0.570</th>\n",
       "      <th>0.571</th>\n",
       "    </tr>\n",
       "  </thead>\n",
       "  <tbody>\n",
       "    <tr>\n",
       "      <th>0</th>\n",
       "      <td>0</td>\n",
       "      <td>0</td>\n",
       "      <td>0</td>\n",
       "      <td>0</td>\n",
       "      <td>0</td>\n",
       "      <td>0</td>\n",
       "      <td>0</td>\n",
       "      <td>0</td>\n",
       "      <td>0</td>\n",
       "      <td>0</td>\n",
       "      <td>...</td>\n",
       "      <td>0</td>\n",
       "      <td>0</td>\n",
       "      <td>0</td>\n",
       "      <td>0</td>\n",
       "      <td>0</td>\n",
       "      <td>0</td>\n",
       "      <td>0</td>\n",
       "      <td>0</td>\n",
       "      <td>0</td>\n",
       "      <td>0</td>\n",
       "    </tr>\n",
       "    <tr>\n",
       "      <th>1</th>\n",
       "      <td>0</td>\n",
       "      <td>0</td>\n",
       "      <td>0</td>\n",
       "      <td>0</td>\n",
       "      <td>0</td>\n",
       "      <td>0</td>\n",
       "      <td>0</td>\n",
       "      <td>0</td>\n",
       "      <td>0</td>\n",
       "      <td>0</td>\n",
       "      <td>...</td>\n",
       "      <td>0</td>\n",
       "      <td>0</td>\n",
       "      <td>0</td>\n",
       "      <td>0</td>\n",
       "      <td>0</td>\n",
       "      <td>0</td>\n",
       "      <td>0</td>\n",
       "      <td>0</td>\n",
       "      <td>0</td>\n",
       "      <td>0</td>\n",
       "    </tr>\n",
       "    <tr>\n",
       "      <th>2</th>\n",
       "      <td>0</td>\n",
       "      <td>0</td>\n",
       "      <td>0</td>\n",
       "      <td>0</td>\n",
       "      <td>0</td>\n",
       "      <td>0</td>\n",
       "      <td>0</td>\n",
       "      <td>0</td>\n",
       "      <td>0</td>\n",
       "      <td>0</td>\n",
       "      <td>...</td>\n",
       "      <td>0</td>\n",
       "      <td>0</td>\n",
       "      <td>0</td>\n",
       "      <td>0</td>\n",
       "      <td>0</td>\n",
       "      <td>0</td>\n",
       "      <td>0</td>\n",
       "      <td>0</td>\n",
       "      <td>0</td>\n",
       "      <td>0</td>\n",
       "    </tr>\n",
       "    <tr>\n",
       "      <th>3</th>\n",
       "      <td>0</td>\n",
       "      <td>0</td>\n",
       "      <td>0</td>\n",
       "      <td>0</td>\n",
       "      <td>0</td>\n",
       "      <td>0</td>\n",
       "      <td>0</td>\n",
       "      <td>0</td>\n",
       "      <td>0</td>\n",
       "      <td>0</td>\n",
       "      <td>...</td>\n",
       "      <td>0</td>\n",
       "      <td>0</td>\n",
       "      <td>0</td>\n",
       "      <td>0</td>\n",
       "      <td>0</td>\n",
       "      <td>0</td>\n",
       "      <td>0</td>\n",
       "      <td>0</td>\n",
       "      <td>0</td>\n",
       "      <td>0</td>\n",
       "    </tr>\n",
       "    <tr>\n",
       "      <th>4</th>\n",
       "      <td>0</td>\n",
       "      <td>0</td>\n",
       "      <td>0</td>\n",
       "      <td>0</td>\n",
       "      <td>0</td>\n",
       "      <td>0</td>\n",
       "      <td>0</td>\n",
       "      <td>0</td>\n",
       "      <td>0</td>\n",
       "      <td>0</td>\n",
       "      <td>...</td>\n",
       "      <td>0</td>\n",
       "      <td>0</td>\n",
       "      <td>0</td>\n",
       "      <td>0</td>\n",
       "      <td>0</td>\n",
       "      <td>0</td>\n",
       "      <td>0</td>\n",
       "      <td>0</td>\n",
       "      <td>0</td>\n",
       "      <td>0</td>\n",
       "    </tr>\n",
       "  </tbody>\n",
       "</table>\n",
       "<p>5 rows × 785 columns</p>\n",
       "</div>"
      ],
      "text/plain": [
       "   0  0.1  0.2  0.3  0.4  0.5  0.6  0.7  0.8  0.9  ...  0.562  0.563  0.564  \\\n",
       "0  0    0    0    0    0    0    0    0    0    0  ...      0      0      0   \n",
       "1  0    0    0    0    0    0    0    0    0    0  ...      0      0      0   \n",
       "2  0    0    0    0    0    0    0    0    0    0  ...      0      0      0   \n",
       "3  0    0    0    0    0    0    0    0    0    0  ...      0      0      0   \n",
       "4  0    0    0    0    0    0    0    0    0    0  ...      0      0      0   \n",
       "\n",
       "   0.565  0.566  0.567  0.568  0.569  0.570  0.571  \n",
       "0      0      0      0      0      0      0      0  \n",
       "1      0      0      0      0      0      0      0  \n",
       "2      0      0      0      0      0      0      0  \n",
       "3      0      0      0      0      0      0      0  \n",
       "4      0      0      0      0      0      0      0  \n",
       "\n",
       "[5 rows x 785 columns]"
      ]
     },
     "execution_count": 4,
     "metadata": {},
     "output_type": "execute_result"
    }
   ],
   "source": [
    "df.head()"
   ]
  },
  {
   "cell_type": "code",
   "execution_count": 5,
   "id": "medium-miracle",
   "metadata": {},
   "outputs": [
    {
     "data": {
      "text/html": [
       "<div>\n",
       "<style scoped>\n",
       "    .dataframe tbody tr th:only-of-type {\n",
       "        vertical-align: middle;\n",
       "    }\n",
       "\n",
       "    .dataframe tbody tr th {\n",
       "        vertical-align: top;\n",
       "    }\n",
       "\n",
       "    .dataframe thead th {\n",
       "        text-align: right;\n",
       "    }\n",
       "</style>\n",
       "<table border=\"1\" class=\"dataframe\">\n",
       "  <thead>\n",
       "    <tr style=\"text-align: right;\">\n",
       "      <th></th>\n",
       "      <th>0</th>\n",
       "      <th>0.1</th>\n",
       "      <th>0.2</th>\n",
       "      <th>0.3</th>\n",
       "      <th>0.4</th>\n",
       "      <th>0.5</th>\n",
       "      <th>0.6</th>\n",
       "      <th>0.7</th>\n",
       "      <th>0.8</th>\n",
       "      <th>0.9</th>\n",
       "      <th>...</th>\n",
       "      <th>0.562</th>\n",
       "      <th>0.563</th>\n",
       "      <th>0.564</th>\n",
       "      <th>0.565</th>\n",
       "      <th>0.566</th>\n",
       "      <th>0.567</th>\n",
       "      <th>0.568</th>\n",
       "      <th>0.569</th>\n",
       "      <th>0.570</th>\n",
       "      <th>0.571</th>\n",
       "    </tr>\n",
       "  </thead>\n",
       "  <tbody>\n",
       "    <tr>\n",
       "      <th>count</th>\n",
       "      <td>372037.000000</td>\n",
       "      <td>372037.0</td>\n",
       "      <td>372037.0</td>\n",
       "      <td>372037.0</td>\n",
       "      <td>372037.0</td>\n",
       "      <td>372037.0</td>\n",
       "      <td>372037.0</td>\n",
       "      <td>372037.0</td>\n",
       "      <td>372037.0</td>\n",
       "      <td>372037.0</td>\n",
       "      <td>...</td>\n",
       "      <td>372037.0</td>\n",
       "      <td>372037.0</td>\n",
       "      <td>372037.0</td>\n",
       "      <td>372037.0</td>\n",
       "      <td>372037.0</td>\n",
       "      <td>372037.0</td>\n",
       "      <td>372037.0</td>\n",
       "      <td>372037.0</td>\n",
       "      <td>372037.0</td>\n",
       "      <td>372037.0</td>\n",
       "    </tr>\n",
       "    <tr>\n",
       "      <th>mean</th>\n",
       "      <td>13.391641</td>\n",
       "      <td>0.0</td>\n",
       "      <td>0.0</td>\n",
       "      <td>0.0</td>\n",
       "      <td>0.0</td>\n",
       "      <td>0.0</td>\n",
       "      <td>0.0</td>\n",
       "      <td>0.0</td>\n",
       "      <td>0.0</td>\n",
       "      <td>0.0</td>\n",
       "      <td>...</td>\n",
       "      <td>0.0</td>\n",
       "      <td>0.0</td>\n",
       "      <td>0.0</td>\n",
       "      <td>0.0</td>\n",
       "      <td>0.0</td>\n",
       "      <td>0.0</td>\n",
       "      <td>0.0</td>\n",
       "      <td>0.0</td>\n",
       "      <td>0.0</td>\n",
       "      <td>0.0</td>\n",
       "    </tr>\n",
       "    <tr>\n",
       "      <th>std</th>\n",
       "      <td>6.765867</td>\n",
       "      <td>0.0</td>\n",
       "      <td>0.0</td>\n",
       "      <td>0.0</td>\n",
       "      <td>0.0</td>\n",
       "      <td>0.0</td>\n",
       "      <td>0.0</td>\n",
       "      <td>0.0</td>\n",
       "      <td>0.0</td>\n",
       "      <td>0.0</td>\n",
       "      <td>...</td>\n",
       "      <td>0.0</td>\n",
       "      <td>0.0</td>\n",
       "      <td>0.0</td>\n",
       "      <td>0.0</td>\n",
       "      <td>0.0</td>\n",
       "      <td>0.0</td>\n",
       "      <td>0.0</td>\n",
       "      <td>0.0</td>\n",
       "      <td>0.0</td>\n",
       "      <td>0.0</td>\n",
       "    </tr>\n",
       "    <tr>\n",
       "      <th>min</th>\n",
       "      <td>0.000000</td>\n",
       "      <td>0.0</td>\n",
       "      <td>0.0</td>\n",
       "      <td>0.0</td>\n",
       "      <td>0.0</td>\n",
       "      <td>0.0</td>\n",
       "      <td>0.0</td>\n",
       "      <td>0.0</td>\n",
       "      <td>0.0</td>\n",
       "      <td>0.0</td>\n",
       "      <td>...</td>\n",
       "      <td>0.0</td>\n",
       "      <td>0.0</td>\n",
       "      <td>0.0</td>\n",
       "      <td>0.0</td>\n",
       "      <td>0.0</td>\n",
       "      <td>0.0</td>\n",
       "      <td>0.0</td>\n",
       "      <td>0.0</td>\n",
       "      <td>0.0</td>\n",
       "      <td>0.0</td>\n",
       "    </tr>\n",
       "    <tr>\n",
       "      <th>25%</th>\n",
       "      <td>9.000000</td>\n",
       "      <td>0.0</td>\n",
       "      <td>0.0</td>\n",
       "      <td>0.0</td>\n",
       "      <td>0.0</td>\n",
       "      <td>0.0</td>\n",
       "      <td>0.0</td>\n",
       "      <td>0.0</td>\n",
       "      <td>0.0</td>\n",
       "      <td>0.0</td>\n",
       "      <td>...</td>\n",
       "      <td>0.0</td>\n",
       "      <td>0.0</td>\n",
       "      <td>0.0</td>\n",
       "      <td>0.0</td>\n",
       "      <td>0.0</td>\n",
       "      <td>0.0</td>\n",
       "      <td>0.0</td>\n",
       "      <td>0.0</td>\n",
       "      <td>0.0</td>\n",
       "      <td>0.0</td>\n",
       "    </tr>\n",
       "    <tr>\n",
       "      <th>50%</th>\n",
       "      <td>14.000000</td>\n",
       "      <td>0.0</td>\n",
       "      <td>0.0</td>\n",
       "      <td>0.0</td>\n",
       "      <td>0.0</td>\n",
       "      <td>0.0</td>\n",
       "      <td>0.0</td>\n",
       "      <td>0.0</td>\n",
       "      <td>0.0</td>\n",
       "      <td>0.0</td>\n",
       "      <td>...</td>\n",
       "      <td>0.0</td>\n",
       "      <td>0.0</td>\n",
       "      <td>0.0</td>\n",
       "      <td>0.0</td>\n",
       "      <td>0.0</td>\n",
       "      <td>0.0</td>\n",
       "      <td>0.0</td>\n",
       "      <td>0.0</td>\n",
       "      <td>0.0</td>\n",
       "      <td>0.0</td>\n",
       "    </tr>\n",
       "    <tr>\n",
       "      <th>75%</th>\n",
       "      <td>18.000000</td>\n",
       "      <td>0.0</td>\n",
       "      <td>0.0</td>\n",
       "      <td>0.0</td>\n",
       "      <td>0.0</td>\n",
       "      <td>0.0</td>\n",
       "      <td>0.0</td>\n",
       "      <td>0.0</td>\n",
       "      <td>0.0</td>\n",
       "      <td>0.0</td>\n",
       "      <td>...</td>\n",
       "      <td>0.0</td>\n",
       "      <td>0.0</td>\n",
       "      <td>0.0</td>\n",
       "      <td>0.0</td>\n",
       "      <td>0.0</td>\n",
       "      <td>0.0</td>\n",
       "      <td>0.0</td>\n",
       "      <td>0.0</td>\n",
       "      <td>0.0</td>\n",
       "      <td>0.0</td>\n",
       "    </tr>\n",
       "    <tr>\n",
       "      <th>max</th>\n",
       "      <td>25.000000</td>\n",
       "      <td>0.0</td>\n",
       "      <td>0.0</td>\n",
       "      <td>0.0</td>\n",
       "      <td>0.0</td>\n",
       "      <td>0.0</td>\n",
       "      <td>0.0</td>\n",
       "      <td>0.0</td>\n",
       "      <td>0.0</td>\n",
       "      <td>0.0</td>\n",
       "      <td>...</td>\n",
       "      <td>0.0</td>\n",
       "      <td>0.0</td>\n",
       "      <td>0.0</td>\n",
       "      <td>0.0</td>\n",
       "      <td>0.0</td>\n",
       "      <td>0.0</td>\n",
       "      <td>0.0</td>\n",
       "      <td>0.0</td>\n",
       "      <td>0.0</td>\n",
       "      <td>0.0</td>\n",
       "    </tr>\n",
       "  </tbody>\n",
       "</table>\n",
       "<p>8 rows × 785 columns</p>\n",
       "</div>"
      ],
      "text/plain": [
       "                   0       0.1       0.2       0.3       0.4       0.5  \\\n",
       "count  372037.000000  372037.0  372037.0  372037.0  372037.0  372037.0   \n",
       "mean       13.391641       0.0       0.0       0.0       0.0       0.0   \n",
       "std         6.765867       0.0       0.0       0.0       0.0       0.0   \n",
       "min         0.000000       0.0       0.0       0.0       0.0       0.0   \n",
       "25%         9.000000       0.0       0.0       0.0       0.0       0.0   \n",
       "50%        14.000000       0.0       0.0       0.0       0.0       0.0   \n",
       "75%        18.000000       0.0       0.0       0.0       0.0       0.0   \n",
       "max        25.000000       0.0       0.0       0.0       0.0       0.0   \n",
       "\n",
       "            0.6       0.7       0.8       0.9  ...     0.562     0.563  \\\n",
       "count  372037.0  372037.0  372037.0  372037.0  ...  372037.0  372037.0   \n",
       "mean        0.0       0.0       0.0       0.0  ...       0.0       0.0   \n",
       "std         0.0       0.0       0.0       0.0  ...       0.0       0.0   \n",
       "min         0.0       0.0       0.0       0.0  ...       0.0       0.0   \n",
       "25%         0.0       0.0       0.0       0.0  ...       0.0       0.0   \n",
       "50%         0.0       0.0       0.0       0.0  ...       0.0       0.0   \n",
       "75%         0.0       0.0       0.0       0.0  ...       0.0       0.0   \n",
       "max         0.0       0.0       0.0       0.0  ...       0.0       0.0   \n",
       "\n",
       "          0.564     0.565     0.566     0.567     0.568     0.569     0.570  \\\n",
       "count  372037.0  372037.0  372037.0  372037.0  372037.0  372037.0  372037.0   \n",
       "mean        0.0       0.0       0.0       0.0       0.0       0.0       0.0   \n",
       "std         0.0       0.0       0.0       0.0       0.0       0.0       0.0   \n",
       "min         0.0       0.0       0.0       0.0       0.0       0.0       0.0   \n",
       "25%         0.0       0.0       0.0       0.0       0.0       0.0       0.0   \n",
       "50%         0.0       0.0       0.0       0.0       0.0       0.0       0.0   \n",
       "75%         0.0       0.0       0.0       0.0       0.0       0.0       0.0   \n",
       "max         0.0       0.0       0.0       0.0       0.0       0.0       0.0   \n",
       "\n",
       "          0.571  \n",
       "count  372037.0  \n",
       "mean        0.0  \n",
       "std         0.0  \n",
       "min         0.0  \n",
       "25%         0.0  \n",
       "50%         0.0  \n",
       "75%         0.0  \n",
       "max         0.0  \n",
       "\n",
       "[8 rows x 785 columns]"
      ]
     },
     "execution_count": 5,
     "metadata": {},
     "output_type": "execute_result"
    }
   ],
   "source": [
    "df.describe()"
   ]
  },
  {
   "cell_type": "code",
   "execution_count": 6,
   "id": "three-corrections",
   "metadata": {},
   "outputs": [
    {
     "data": {
      "text/plain": [
       "(372037, 785)"
      ]
     },
     "execution_count": 6,
     "metadata": {},
     "output_type": "execute_result"
    }
   ],
   "source": [
    "df.shape"
   ]
  },
  {
   "cell_type": "markdown",
   "id": "choice-disaster",
   "metadata": {},
   "source": [
    "# Getting X and y"
   ]
  },
  {
   "cell_type": "code",
   "execution_count": 7,
   "id": "indie-october",
   "metadata": {},
   "outputs": [],
   "source": [
    "def getX_gety():\n",
    "    X = df.drop(labels=['0'], axis=1)\n",
    "    y = df['0']\n",
    "    return [X, y]"
   ]
  },
  {
   "cell_type": "code",
   "execution_count": 8,
   "id": "sought-translation",
   "metadata": {},
   "outputs": [],
   "source": [
    "X, y = getX_gety()"
   ]
  },
  {
   "cell_type": "code",
   "execution_count": 9,
   "id": "reasonable-quick",
   "metadata": {},
   "outputs": [
    {
     "data": {
      "text/plain": [
       "(372037, 784)"
      ]
     },
     "execution_count": 9,
     "metadata": {},
     "output_type": "execute_result"
    }
   ],
   "source": [
    "X.shape"
   ]
  },
  {
   "cell_type": "code",
   "execution_count": 10,
   "id": "lasting-series",
   "metadata": {},
   "outputs": [
    {
     "data": {
      "text/plain": [
       "(372037,)"
      ]
     },
     "execution_count": 10,
     "metadata": {},
     "output_type": "execute_result"
    }
   ],
   "source": [
    "y.shape"
   ]
  },
  {
   "cell_type": "markdown",
   "id": "respective-league",
   "metadata": {},
   "source": [
    "# Plotting y : Target Value"
   ]
  },
  {
   "cell_type": "code",
   "execution_count": 11,
   "id": "national-helicopter",
   "metadata": {},
   "outputs": [],
   "source": [
    "def plot():\n",
    "    plt.figure(figsize=(15,8))\n",
    "    sn.countplot(y, palette=\"rocket\")\n",
    "    plt.title(\"Number of character classes\" , fontsize=12)\n",
    "    plt.xlabel('Character Classes', fontsize=12)\n",
    "    plt.ylabel('Character Counts', fontsize=12)\n",
    "    y.value_counts()"
   ]
  },
  {
   "cell_type": "code",
   "execution_count": 12,
   "id": "inside-couple",
   "metadata": {},
   "outputs": [
    {
     "name": "stderr",
     "output_type": "stream",
     "text": [
      "/Users/bkhadka/opt/anaconda3/envs/ML/lib/python3.8/site-packages/seaborn/_decorators.py:36: FutureWarning: Pass the following variable as a keyword arg: x. From version 0.12, the only valid positional argument will be `data`, and passing other arguments without an explicit keyword will result in an error or misinterpretation.\n",
      "  warnings.warn(\n"
     ]
    },
    {
     "data": {
      "image/png": "[encoded data removed]",
      "text/plain": [
       "<Figure size 1080x576 with 1 Axes>"
      ]
     },
     "metadata": {
      "needs_background": "light"
     },
     "output_type": "display_data"
    }
   ],
   "source": [
    "plot()"
   ]
  },
  {
   "cell_type": "markdown",
   "id": "defined-columbus",
   "metadata": {},
   "source": [
    "# Normalizing and Reshaping Data"
   ]
  },
  {
   "cell_type": "code",
   "execution_count": 13,
   "id": "improved-alberta",
   "metadata": {},
   "outputs": [],
   "source": [
    "X = X / 255.0\n",
    "X = X.values.reshape(-1,28,28,1)"
   ]
  },
  {
   "cell_type": "code",
   "execution_count": 14,
   "id": "optional-hampton",
   "metadata": {},
   "outputs": [],
   "source": [
    "y = to_categorical(y, num_classes = 26) # Converting to one hot encoding"
   ]
  },
  {
   "cell_type": "markdown",
   "id": "promotional-newport",
   "metadata": {},
   "source": [
    "# Splitting a model"
   ]
  },
  {
   "cell_type": "code",
   "execution_count": 15,
   "id": "regular-wayne",
   "metadata": {},
   "outputs": [
    {
     "name": "stdout",
     "output_type": "stream",
     "text": [
      "x_train shape (297629, 28, 28, 1)\n",
      "x_test shape (74408, 28, 28, 1)\n",
      "y_train shape (297629, 26)\n",
      "y_test shape (74408, 26)\n"
     ]
    }
   ],
   "source": [
    "X_train, X_validation, y_train, y_validation = train_test_split(X, y, test_size = 0.2, random_state=42)\n",
    "print(\"x_train shape\",X_train.shape)\n",
    "print(\"x_test shape\",X_validation.shape)\n",
    "print(\"y_train shape\",y_train.shape)\n",
    "print(\"y_test shape\",y_validation.shape)"
   ]
  },
  {
   "cell_type": "markdown",
   "id": "electric-bullet",
   "metadata": {},
   "source": [
    "# Display the images"
   ]
  },
  {
   "cell_type": "code",
   "execution_count": 16,
   "id": "apart-response",
   "metadata": {},
   "outputs": [
    {
     "data": {
      "image/png": "[encoded data removed]",
      "text/plain": [
       "<Figure size 432x288 with 1 Axes>"
      ]
     },
     "metadata": {
      "needs_background": "light"
     },
     "output_type": "display_data"
    }
   ],
   "source": [
    "plt.imshow(X_train[200][:,:,0],cmap='gray')\n",
    "plt.show()"
   ]
  },
  {
   "cell_type": "code",
   "execution_count": 17,
   "id": "laughing-custom",
   "metadata": {},
   "outputs": [
    {
     "data": {
      "image/png": "[encoded data removed]",
      "text/plain": [
       "<Figure size 432x288 with 1 Axes>"
      ]
     },
     "metadata": {
      "needs_background": "light"
     },
     "output_type": "display_data"
    }
   ],
   "source": [
    "plt.imshow(X_validation[400][:,:,0],cmap='gray')\n",
    "plt.show()"
   ]
  },
  {
   "cell_type": "markdown",
   "id": "spread-python",
   "metadata": {},
   "source": [
    "# Creating a CNN Model"
   ]
  },
  {
   "cell_type": "code",
   "execution_count": 18,
   "id": "familiar-advertising",
   "metadata": {},
   "outputs": [],
   "source": [
    "def model():\n",
    "    model = Sequential()\n",
    "    model.add(Conv2D(filters = 8, kernel_size = (5,5),padding = 'Same', activation ='relu', input_shape = (28,28,1)))\n",
    "    model.add(MaxPool2D(pool_size=(2,2)))\n",
    "    model.add(Dropout(0.25))\n",
    "    model.add(Conv2D(filters = 16, kernel_size = (3,3),padding = 'Same', activation ='relu'))\n",
    "    model.add(MaxPool2D(pool_size=(2,2), strides=(2,2)))\n",
    "    model.add(Dropout(0.25))\n",
    "    model.add(Flatten())\n",
    "    model.add(Dense(256, activation = \"relu\"))\n",
    "    model.add(Dropout(0.5))\n",
    "    model.add(Dense(26, activation = \"softmax\"))\n",
    "    optimizer = Adam(lr=0.001, beta_1=0.9, beta_2=0.999)\n",
    "    model.compile(optimizer = optimizer , loss = \"categorical_crossentropy\", metrics=[\"accuracy\"])\n",
    "    return model\n"
   ]
  },
  {
   "cell_type": "code",
   "execution_count": 19,
   "id": "optical-proportion",
   "metadata": {},
   "outputs": [],
   "source": [
    "model = model()"
   ]
  },
  {
   "cell_type": "markdown",
   "id": "interim-anxiety",
   "metadata": {},
   "source": [
    "# Train Model"
   ]
  },
  {
   "cell_type": "code",
   "execution_count": 20,
   "id": "illegal-bulgarian",
   "metadata": {},
   "outputs": [
    {
     "name": "stdout",
     "output_type": "stream",
     "text": [
      "Epoch 1/10\n",
      "1190/1190 [==============================] - 83s 69ms/step - loss: 1.2306 - accuracy: 0.6408 - val_loss: 0.1490 - val_accuracy: 0.9595\n",
      "Epoch 2/10\n",
      "1190/1190 [==============================] - 82s 69ms/step - loss: 0.3618 - accuracy: 0.8947 - val_loss: 0.1158 - val_accuracy: 0.9685\n",
      "Epoch 3/10\n",
      "1190/1190 [==============================] - 83s 69ms/step - loss: 0.2917 - accuracy: 0.9154 - val_loss: 0.1066 - val_accuracy: 0.9714\n",
      "Epoch 4/10\n",
      "1190/1190 [==============================] - 83s 70ms/step - loss: 0.2594 - accuracy: 0.9257 - val_loss: 0.0958 - val_accuracy: 0.9748\n",
      "Epoch 5/10\n",
      "1190/1190 [==============================] - 83s 69ms/step - loss: 0.2421 - accuracy: 0.9308 - val_loss: 0.0890 - val_accuracy: 0.9768\n",
      "Epoch 6/10\n",
      "1190/1190 [==============================] - 82s 69ms/step - loss: 0.2255 - accuracy: 0.9362 - val_loss: 0.0854 - val_accuracy: 0.9783\n",
      "Epoch 7/10\n",
      "1190/1190 [==============================] - 82s 69ms/step - loss: 0.2130 - accuracy: 0.9392 - val_loss: 0.0846 - val_accuracy: 0.9790\n",
      "Epoch 8/10\n",
      "1190/1190 [==============================] - 334s 281ms/step - loss: 0.2039 - accuracy: 0.9426 - val_loss: 0.0818 - val_accuracy: 0.9795\n",
      "Epoch 9/10\n",
      "1190/1190 [==============================] - 82s 69ms/step - loss: 0.2035 - accuracy: 0.9429 - val_loss: 0.0810 - val_accuracy: 0.9798\n",
      "Epoch 10/10\n",
      "1190/1190 [==============================] - 82s 69ms/step - loss: 0.1958 - accuracy: 0.9453 - val_loss: 0.0792 - val_accuracy: 0.9798\n"
     ]
    },
    {
     "data": {
      "text/plain": [
       "<tensorflow.python.keras.callbacks.History at 0x7fe057efa220>"
      ]
     },
     "execution_count": 20,
     "metadata": {},
     "output_type": "execute_result"
    }
   ],
   "source": [
    "epochs = 10  # for better result increase the epochs\n",
    "batch_size = 250\n",
    "datagen = ImageDataGenerator(\n",
    "        featurewise_center=False,  # set input mean to 0 over the dataset\n",
    "        samplewise_center=False,  # set each sample mean to 0\n",
    "        featurewise_std_normalization=False,  # divide inputs by std of the dataset\n",
    "        samplewise_std_normalization=False,  # divide each input by its std\n",
    "        zca_whitening=False,  # dimesion reduction\n",
    "        rotation_range=5,  # randomly rotate images in the range 5 degrees\n",
    "        zoom_range = 0.1, # Randomly zoom image 10%\n",
    "        width_shift_range=0.1,  # randomly shift images horizontally 10%\n",
    "        height_shift_range=0.1,  # randomly shift images vertically 10%\n",
    "        horizontal_flip=False,  # randomly flip images\n",
    "        vertical_flip=False)  # randomly flip images\n",
    "\n",
    "datagen.fit(X_train)\n",
    "model.fit(datagen.flow(X_train,y_train, batch_size=batch_size), epochs = epochs, validation_data = (X_validation,y_validation), steps_per_epoch=X_train.shape[0] // batch_size)"
   ]
  },
  {
   "cell_type": "markdown",
   "id": "greatest-feedback",
   "metadata": {},
   "source": [
    "# Confusion Matrix"
   ]
  },
  {
   "cell_type": "code",
   "execution_count": 21,
   "id": "hearing-burns",
   "metadata": {},
   "outputs": [
    {
     "data": {
      "image/png": "[encoded data removed]",
      "text/plain": [
       "<Figure size 1584x1584 with 2 Axes>"
      ]
     },
     "metadata": {
      "needs_background": "light"
     },
     "output_type": "display_data"
    }
   ],
   "source": [
    "Y_pred = model.predict(X_validation)\n",
    "Y_pred_classes = np.argmax(Y_pred,axis = 1) \n",
    "Y_true = np.argmax(y_validation,axis = 1) \n",
    "confusion_mtx = confusion_matrix(Y_true, Y_pred_classes) \n",
    "f,ax = plt.subplots(figsize=(22, 22))\n",
    "sn.heatmap(confusion_mtx, annot=True, linewidths=0.01,cmap=\"Greens\",linecolor=\"gray\", fmt= '.1f',ax=ax)\n",
    "plt.xlabel(\"Predicted Label\", fontsize=12)\n",
    "plt.ylabel(\"True Label\", fontsize=12)\n",
    "plt.title(\"Confusion Matrix\", fontsize=12)\n",
    "plt.show()"
   ]
  },
  {
   "cell_type": "code",
   "execution_count": 22,
   "id": "consistent-consumer",
   "metadata": {},
   "outputs": [],
   "source": [
    "predictions = model.predict([X_validation])"
   ]
  },
  {
   "cell_type": "code",
   "execution_count": 23,
   "id": "comic-youth",
   "metadata": {},
   "outputs": [
    {
     "data": {
      "text/plain": [
       "array([[4.42368142e-09, 8.84918165e-07, 3.56854542e-07, ...,\n",
       "        1.33836025e-07, 7.46466871e-03, 8.81118845e-10],\n",
       "       [1.03330379e-02, 1.02313556e-04, 2.21019825e-08, ...,\n",
       "        1.63948977e-09, 1.49739648e-11, 8.07983280e-09],\n",
       "       [1.67304094e-07, 3.84146006e-06, 6.05584937e-05, ...,\n",
       "        9.70849811e-13, 6.29793036e-08, 1.85659821e-11],\n",
       "       ...,\n",
       "       [4.73296495e-05, 1.17994559e-10, 1.83572191e-09, ...,\n",
       "        1.26528203e-05, 1.89109358e-07, 8.62534531e-14],\n",
       "       [1.51333529e-06, 8.57501173e-15, 7.22052279e-12, ...,\n",
       "        6.87538405e-14, 2.53433125e-13, 7.94926524e-18],\n",
       "       [1.39677956e-13, 2.89091889e-10, 4.12225972e-06, ...,\n",
       "        9.77400626e-12, 5.46954311e-07, 1.14831986e-13]], dtype=float32)"
      ]
     },
     "execution_count": 23,
     "metadata": {},
     "output_type": "execute_result"
    }
   ],
   "source": [
    "predictions"
   ]
  },
  {
   "cell_type": "code",
   "execution_count": 24,
   "id": "valuable-hierarchy",
   "metadata": {},
   "outputs": [
    {
     "name": "stdout",
     "output_type": "stream",
     "text": [
      "20\n"
     ]
    }
   ],
   "source": [
    "print(np.argmax(predictions[24]))"
   ]
  },
  {
   "cell_type": "code",
   "execution_count": 25,
   "id": "clear-theme",
   "metadata": {},
   "outputs": [
    {
     "data": {
      "text/plain": [
       "<matplotlib.image.AxesImage at 0x7fde10b4f7c0>"
      ]
     },
     "execution_count": 25,
     "metadata": {},
     "output_type": "execute_result"
    },
    {
     "data": {
      "image/png": "[encoded data removed]",
      "text/plain": [
       "<Figure size 432x288 with 1 Axes>"
      ]
     },
     "metadata": {
      "needs_background": "light"
     },
     "output_type": "display_data"
    }
   ],
   "source": [
    "plt.imshow(X_validation[24])"
   ]
  },
  {
   "cell_type": "code",
   "execution_count": 144,
   "id": "sized-james",
   "metadata": {},
   "outputs": [
    {
     "name": "stdout",
     "output_type": "stream",
     "text": [
      "INFO:tensorflow:Assets written to: Saved_Model/assets\n"
     ]
    }
   ],
   "source": [
    "model.save('Saved_Model')"
   ]
  },
  {
   "cell_type": "code",
   "execution_count": 146,
   "id": "stretch-camel",
   "metadata": {},
   "outputs": [],
   "source": [
    "from tensorflow import keras\n",
    "reconstructed_model = keras.models.load_model('Saved_Model')"
   ]
  },
  {
   "cell_type": "code",
   "execution_count": 147,
   "id": "specified-anaheim",
   "metadata": {},
   "outputs": [],
   "source": [
    "predictionsFromSavedModel = reconstructed_model.predict([X_validation])"
   ]
  },
  {
   "cell_type": "code",
   "execution_count": 148,
   "id": "deadly-designer",
   "metadata": {},
   "outputs": [
    {
     "name": "stdout",
     "output_type": "stream",
     "text": [
      "20\n"
     ]
    }
   ],
   "source": [
    "print(np.argmax(predictionsFromSavedModel[24]))"
   ]
  },
  {
   "cell_type": "code",
   "execution_count": 149,
   "id": "integral-airfare",
   "metadata": {},
   "outputs": [
    {
     "data": {
      "text/plain": [
       "<matplotlib.image.AxesImage at 0x7fde155d5cd0>"
      ]
     },
     "execution_count": 149,
     "metadata": {},
     "output_type": "execute_result"
    },
    {
     "data": {
      "image/png": "[encoded data removed]",
      "text/plain": [
       "<Figure size 432x288 with 1 Axes>"
      ]
     },
     "metadata": {
      "needs_background": "light"
     },
     "output_type": "display_data"
    }
   ],
   "source": [
    "plt.imshow(X_validation[24])"
   ]
  },
  {
   "cell_type": "code",
   "execution_count": 26,
   "id": "executed-brighton",
   "metadata": {},
   "outputs": [],
   "source": [
    "import cv2"
   ]
  },
  {
   "cell_type": "code",
   "execution_count": 130,
   "id": "significant-welding",
   "metadata": {},
   "outputs": [],
   "source": [
    "img = cv2.imread('Images/Bransen.png')"
   ]
  },
  {
   "cell_type": "code",
   "execution_count": 131,
   "id": "after-garlic",
   "metadata": {},
   "outputs": [
    {
     "data": {
      "text/plain": [
       "<matplotlib.image.AxesImage at 0x7fde14964af0>"
      ]
     },
     "execution_count": 131,
     "metadata": {},
     "output_type": "execute_result"
    },
    {
     "data": {
      "image/png": "[encoded data removed]",
      "text/plain": [
       "<Figure size 432x288 with 1 Axes>"
      ]
     },
     "metadata": {
      "needs_background": "light"
     },
     "output_type": "display_data"
    }
   ],
   "source": [
    "plt.imshow(img)"
   ]
  },
  {
   "cell_type": "code",
   "execution_count": 132,
   "id": "fossil-graduate",
   "metadata": {},
   "outputs": [
    {
     "data": {
      "text/plain": [
       "(762, 784, 3)"
      ]
     },
     "execution_count": 132,
     "metadata": {},
     "output_type": "execute_result"
    }
   ],
   "source": [
    "img.shape"
   ]
  },
  {
   "cell_type": "code",
   "execution_count": 133,
   "id": "satellite-paragraph",
   "metadata": {},
   "outputs": [],
   "source": [
    "gray = cv2.cvtColor(img, cv2.COLOR_BGR2GRAY)"
   ]
  },
  {
   "cell_type": "code",
   "execution_count": 134,
   "id": "dimensional-aircraft",
   "metadata": {},
   "outputs": [],
   "source": [
    "resized = cv2.resize(gray, (28, 28), interpolation=cv2.INTER_AREA)"
   ]
  },
  {
   "cell_type": "code",
   "execution_count": 135,
   "id": "defensive-scottish",
   "metadata": {},
   "outputs": [
    {
     "data": {
      "text/plain": [
       "(28, 28)"
      ]
     },
     "execution_count": 135,
     "metadata": {},
     "output_type": "execute_result"
    }
   ],
   "source": [
    "resized.shape"
   ]
  },
  {
   "cell_type": "code",
   "execution_count": 136,
   "id": "aggressive-breed",
   "metadata": {},
   "outputs": [
    {
     "data": {
      "text/plain": [
       "<matplotlib.image.AxesImage at 0x7fde15f059a0>"
      ]
     },
     "execution_count": 136,
     "metadata": {},
     "output_type": "execute_result"
    },
    {
     "data": {
      "image/png": "[encoded data removed]",
      "text/plain": [
       "<Figure size 432x288 with 1 Axes>"
      ]
     },
     "metadata": {
      "needs_background": "light"
     },
     "output_type": "display_data"
    }
   ],
   "source": [
    "plt.imshow(resized)"
   ]
  },
  {
   "cell_type": "code",
   "execution_count": 137,
   "id": "prerequisite-brave",
   "metadata": {},
   "outputs": [],
   "source": [
    "import tensorflow as tf\n",
    "newNormalizedImg = tf.keras.utils.normalize(resized, axis=1)"
   ]
  },
  {
   "cell_type": "code",
   "execution_count": 138,
   "id": "ordered-encyclopedia",
   "metadata": {},
   "outputs": [],
   "source": [
    "newNormalizedImg = np.array(newNormalizedImg).reshape(-1, 28, 28, 1)"
   ]
  },
  {
   "cell_type": "code",
   "execution_count": 139,
   "id": "intense-thumbnail",
   "metadata": {},
   "outputs": [
    {
     "data": {
      "text/plain": [
       "(1, 28, 28, 1)"
      ]
     },
     "execution_count": 139,
     "metadata": {},
     "output_type": "execute_result"
    }
   ],
   "source": [
    "newNormalizedImg.shape"
   ]
  },
  {
   "cell_type": "code",
   "execution_count": 140,
   "id": "raising-application",
   "metadata": {},
   "outputs": [],
   "source": [
    "predictions = model.predict(newNormalizedImg)"
   ]
  },
  {
   "cell_type": "code",
   "execution_count": 141,
   "id": "united-banana",
   "metadata": {},
   "outputs": [],
   "source": [
    "predictionCharacter = np.argmax(predictions)"
   ]
  },
  {
   "cell_type": "code",
   "execution_count": 142,
   "id": "cardiac-personal",
   "metadata": {},
   "outputs": [],
   "source": [
    "predictionDict = dict([(0, 'A'), (1, 'B'), (2, 'C'), (3, 'D'), (4, 'E'), (5, 'F'), (6, 'G'), (7, 'H'), (8, 'I'), (9, 'J'), (10, 'K'), (11, 'L'), (12, 'M'), (13, 'N'), (14, 'O'), (15, 'P'), (16, 'Q'), (17, 'R'), (18, 'S'), (19, 'T'), (20, 'U'), (21, 'V'), (22, 'W'), (23, 'X'), (24, 'Y'), (25, 'Z')])"
   ]
  },
  {
   "cell_type": "code",
   "execution_count": 143,
   "id": "faced-mobility",
   "metadata": {},
   "outputs": [
    {
     "name": "stdout",
     "output_type": "stream",
     "text": [
      "The predicted character is: A\n"
     ]
    }
   ],
   "source": [
    "print(\"The predicted character is: {}\".format(predictionDict[predictionCharacter]))"
   ]
  },
  {
   "cell_type": "code",
   "execution_count": null,
   "id": "entire-tennessee",
   "metadata": {},
   "outputs": [],
   "source": []
  }
 ],
 "metadata": {
  "kernelspec": {
   "display_name": "Python 3",
   "language": "python",
   "name": "python3"
  },
  "language_info": {
   "codemirror_mode": {
    "name": "ipython",
    "version": 3
   },
   "file_extension": ".py",
   "mimetype": "text/x-python",
   "name": "python",
   "nbconvert_exporter": "python",
   "pygments_lexer": "ipython3",
   "version": "3.8.5"
  }
 },
 "nbformat": 4,
 "nbformat_minor": 5
}
