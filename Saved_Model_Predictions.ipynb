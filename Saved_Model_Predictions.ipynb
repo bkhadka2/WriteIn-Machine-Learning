{
 "cells": [
  {
   "cell_type": "code",
   "execution_count": 1,
   "id": "incredible-ribbon",
   "metadata": {},
   "outputs": [],
   "source": [
    "from tensorflow import keras\n",
    "reconstructed_model = keras.models.load_model('Saved_Model')"
   ]
  },
  {
   "cell_type": "code",
   "execution_count": 5,
   "id": "wired-dakota",
   "metadata": {},
   "outputs": [],
   "source": [
    "import cv2\n",
    "import matplotlib.pyplot as plt"
   ]
  },
  {
   "cell_type": "code",
   "execution_count": 6,
   "id": "boolean-oxygen",
   "metadata": {},
   "outputs": [],
   "source": [
    "img = cv2.imread('Images/Bransen.png')"
   ]
  },
  {
   "cell_type": "code",
   "execution_count": 7,
   "id": "lonely-amsterdam",
   "metadata": {},
   "outputs": [
    {
     "data": {
      "text/plain": [
       "<matplotlib.image.AxesImage at 0x7fb900f9ef40>"
      ]
     },
     "execution_count": 7,
     "metadata": {},
     "output_type": "execute_result"
    },
    {
     "data": {
      "image/png": "[encoded data removed]",
      "text/plain": [
       "<Figure size 432x288 with 1 Axes>"
      ]
     },
     "metadata": {
      "needs_background": "light"
     },
     "output_type": "display_data"
    }
   ],
   "source": [
    "plt.imshow(img)"
   ]
  },
  {
   "cell_type": "code",
   "execution_count": 8,
   "id": "accepting-citizen",
   "metadata": {},
   "outputs": [
    {
     "data": {
      "text/plain": [
       "(762, 784, 3)"
      ]
     },
     "execution_count": 8,
     "metadata": {},
     "output_type": "execute_result"
    }
   ],
   "source": [
    "img.shape"
   ]
  },
  {
   "cell_type": "code",
   "execution_count": 9,
   "id": "ancient-panic",
   "metadata": {},
   "outputs": [],
   "source": [
    "gray = cv2.cvtColor(img, cv2.COLOR_BGR2GRAY)"
   ]
  },
  {
   "cell_type": "code",
   "execution_count": 10,
   "id": "rapid-breed",
   "metadata": {},
   "outputs": [],
   "source": [
    "resized = cv2.resize(gray, (28, 28), interpolation=cv2.INTER_AREA)"
   ]
  },
  {
   "cell_type": "code",
   "execution_count": 11,
   "id": "developing-journey",
   "metadata": {},
   "outputs": [
    {
     "data": {
      "text/plain": [
       "(28, 28)"
      ]
     },
     "execution_count": 11,
     "metadata": {},
     "output_type": "execute_result"
    }
   ],
   "source": [
    "resized.shape"
   ]
  },
  {
   "cell_type": "code",
   "execution_count": 12,
   "id": "gross-purpose",
   "metadata": {},
   "outputs": [
    {
     "data": {
      "text/plain": [
       "<matplotlib.image.AxesImage at 0x7fb903733fd0>"
      ]
     },
     "execution_count": 12,
     "metadata": {},
     "output_type": "execute_result"
    },
    {
     "data": {
      "image/png": "[encoded data removed]",
      "text/plain": [
       "<Figure size 432x288 with 1 Axes>"
      ]
     },
     "metadata": {
      "needs_background": "light"
     },
     "output_type": "display_data"
    }
   ],
   "source": [
    "plt.imshow(resized)"
   ]
  },
  {
   "cell_type": "code",
   "execution_count": 13,
   "id": "floppy-raise",
   "metadata": {},
   "outputs": [],
   "source": [
    "import tensorflow as tf\n",
    "newNormalizedImg = tf.keras.utils.normalize(resized, axis=1)"
   ]
  },
  {
   "cell_type": "code",
   "execution_count": 15,
   "id": "paperback-moral",
   "metadata": {},
   "outputs": [],
   "source": [
    "import numpy as np\n",
    "newNormalizedImg = np.array(newNormalizedImg).reshape(-1, 28, 28, 1)"
   ]
  },
  {
   "cell_type": "code",
   "execution_count": 16,
   "id": "proprietary-facility",
   "metadata": {},
   "outputs": [
    {
     "data": {
      "text/plain": [
       "(1, 28, 28, 1)"
      ]
     },
     "execution_count": 16,
     "metadata": {},
     "output_type": "execute_result"
    }
   ],
   "source": [
    "newNormalizedImg.shape"
   ]
  },
  {
   "cell_type": "code",
   "execution_count": 17,
   "id": "olympic-spectacular",
   "metadata": {},
   "outputs": [],
   "source": [
    "predictions = reconstructed_model.predict(newNormalizedImg)"
   ]
  },
  {
   "cell_type": "code",
   "execution_count": 18,
   "id": "cloudy-visiting",
   "metadata": {},
   "outputs": [],
   "source": [
    "predictionCharacter = np.argmax(predictions)"
   ]
  },
  {
   "cell_type": "code",
   "execution_count": 19,
   "id": "treated-watershed",
   "metadata": {},
   "outputs": [],
   "source": [
    "predictionDict = dict([(0, 'A'), (1, 'B'), (2, 'C'), (3, 'D'), (4, 'E'), (5, 'F'), (6, 'G'), (7, 'H'), (8, 'I'), (9, 'J'), (10, 'K'), (11, 'L'), (12, 'M'), (13, 'N'), (14, 'O'), (15, 'P'), (16, 'Q'), (17, 'R'), (18, 'S'), (19, 'T'), (20, 'U'), (21, 'V'), (22, 'W'), (23, 'X'), (24, 'Y'), (25, 'Z')])"
   ]
  },
  {
   "cell_type": "code",
   "execution_count": 20,
   "id": "sharing-violation",
   "metadata": {},
   "outputs": [
    {
     "name": "stdout",
     "output_type": "stream",
     "text": [
      "The predicted character is: A\n"
     ]
    }
   ],
   "source": [
    "print(\"The predicted character is: {}\".format(predictionDict[predictionCharacter]))"
   ]
  },
  {
   "cell_type": "code",
   "execution_count": null,
   "id": "typical-robert",
   "metadata": {},
   "outputs": [],
   "source": []
  }
 ],
 "metadata": {
  "kernelspec": {
   "display_name": "Python 3",
   "language": "python",
   "name": "python3"
  },
  "language_info": {
   "codemirror_mode": {
    "name": "ipython",
    "version": 3
   },
   "file_extension": ".py",
   "mimetype": "text/x-python",
   "name": "python",
   "nbconvert_exporter": "python",
   "pygments_lexer": "ipython3",
   "version": "3.8.5"
  }
 },
 "nbformat": 4,
 "nbformat_minor": 5
}
